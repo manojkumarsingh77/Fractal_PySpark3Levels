{
 "cells": [
  {
   "cell_type": "code",
   "execution_count": null,
   "metadata": {},
   "outputs": [],
   "source": [
    "# /home/labuser/Documents/Level2_Day1_Data/supply_chain_orders.csv"
   ]
  },
  {
   "cell_type": "code",
   "execution_count": 3,
   "metadata": {},
   "outputs": [],
   "source": [
    "#Importing Libs\n",
    "from pyspark.sql import SparkSession\n",
    "from pyspark.sql.window import Window\n",
    "from pyspark.sql.functions import col, row_number, rank, dense_rank, sum, avg, lag, lead"
   ]
  },
  {
   "cell_type": "code",
   "execution_count": 4,
   "metadata": {},
   "outputs": [],
   "source": [
    "# Initialize Spark\n",
    "spark = SparkSession.builder.appName(\"SupplyChainAnalysis\").getOrCreate()"
   ]
  },
  {
   "cell_type": "code",
   "execution_count": 9,
   "metadata": {},
   "outputs": [
    {
     "name": "stdout",
     "output_type": "stream",
     "text": [
      "root\n",
      " |-- order_id: string (nullable = true)\n",
      " |-- warehouse: string (nullable = true)\n",
      " |-- supplier: string (nullable = true)\n",
      " |-- product: string (nullable = true)\n",
      " |-- quantity: integer (nullable = true)\n",
      " |-- order_date: string (nullable = true)\n",
      " |-- delivery_time: integer (nullable = true)\n",
      "\n",
      "+--------+---------+----------+----------+--------+----------+-------------+\n",
      "|order_id|warehouse|  supplier|   product|quantity|order_date|delivery_time|\n",
      "+--------+---------+----------+----------+--------+----------+-------------+\n",
      "|   ORD_1|     WH_B|Supplier_4|    Laptop|      90|2024-01-30|            5|\n",
      "|   ORD_2|     WH_C|Supplier_4|    Laptop|      96|2024-01-08|            6|\n",
      "|   ORD_3|     WH_B|Supplier_1|Headphones|      29|2024-01-02|            1|\n",
      "|   ORD_4|     WH_B|Supplier_4|    Laptop|      97|2024-01-03|            1|\n",
      "|   ORD_5|     WH_B|Supplier_1|    Tablet|      39|2024-01-30|            2|\n",
      "+--------+---------+----------+----------+--------+----------+-------------+\n",
      "only showing top 5 rows\n",
      "\n"
     ]
    }
   ],
   "source": [
    "# Load Data from CSV file\n",
    "df = spark.read.option(\"header\", \"true\").csv(\"/home/labuser/Documents/Level2_Day1_Data/supply_chain_orders.csv\", inferSchema=True)\n",
    "df.printSchema()\n",
    "df.show(5)"
   ]
  },
  {
   "cell_type": "code",
   "execution_count": 10,
   "metadata": {},
   "outputs": [
    {
     "name": "stdout",
     "output_type": "stream",
     "text": [
      "+--------+---------+----------+----------+--------+----------+-------------+----+\n",
      "|order_id|warehouse|  supplier|   product|quantity|order_date|delivery_time|rank|\n",
      "+--------+---------+----------+----------+--------+----------+-------------+----+\n",
      "| ORD_156|     WH_A|Supplier_2|    Tablet|      98|2024-01-17|            1|   1|\n",
      "|  ORD_59|     WH_A|Supplier_1|Smartphone|      97|2024-01-29|            5|   2|\n",
      "|  ORD_41|     WH_A|Supplier_3|Headphones|      95|2024-01-26|            6|   3|\n",
      "|  ORD_53|     WH_B|Supplier_3|        TV|     100|2024-01-15|            2|   1|\n",
      "|   ORD_9|     WH_B|Supplier_4|Headphones|      98|2024-01-17|            2|   2|\n",
      "|   ORD_4|     WH_B|Supplier_4|    Laptop|      97|2024-01-03|            1|   3|\n",
      "|  ORD_10|     WH_C|Supplier_3|    Laptop|      99|2024-01-13|            2|   1|\n",
      "| ORD_113|     WH_C|Supplier_4|Headphones|      98|2024-01-03|            7|   2|\n",
      "| ORD_178|     WH_C|Supplier_2|    Tablet|      98|2024-01-19|            1|   2|\n",
      "+--------+---------+----------+----------+--------+----------+-------------+----+\n",
      "\n"
     ]
    }
   ],
   "source": [
    "# Find Top 3 Suppliers per Warehouses\n",
    "window_spec = Window.partitionBy(\"warehouse\").orderBy(col(\"quantity\").desc())\n",
    "df_ranked = df.withColumn(\"rank\", rank().over(window_spec))\n",
    "df_ranked.filter(col(\"rank\")<= 3).show()"
   ]
  },
  {
   "cell_type": "code",
   "execution_count": 11,
   "metadata": {},
   "outputs": [
    {
     "name": "stdout",
     "output_type": "stream",
     "text": [
      "+--------+---------+----------+----------+--------+----------+-------------+-------------------+\n",
      "|order_id|warehouse|  supplier|   product|quantity|order_date|delivery_time|cumulative_quantity|\n",
      "+--------+---------+----------+----------+--------+----------+-------------+-------------------+\n",
      "|  ORD_52|     WH_C|Supplier_1|Headphones|      57|2024-01-01|            1|                 57|\n",
      "| ORD_196|     WH_A|Supplier_1|        TV|      29|2024-01-01|            4|                 86|\n",
      "|   ORD_3|     WH_B|Supplier_1|Headphones|      29|2024-01-02|            1|                115|\n",
      "|  ORD_38|     WH_B|Supplier_1|        TV|       1|2024-01-02|            7|                116|\n",
      "|  ORD_58|     WH_B|Supplier_1|    Laptop|      39|2024-01-02|            2|                155|\n",
      "| ORD_180|     WH_B|Supplier_1|        TV|      39|2024-01-02|            6|                194|\n",
      "| ORD_192|     WH_B|Supplier_1|        TV|      12|2024-01-02|            7|                206|\n",
      "|  ORD_29|     WH_B|Supplier_1|        TV|      28|2024-01-04|            5|                234|\n",
      "| ORD_188|     WH_C|Supplier_1|    Tablet|       3|2024-01-05|            7|                237|\n",
      "| ORD_133|     WH_C|Supplier_1|        TV|      45|2024-01-08|            3|                282|\n",
      "|  ORD_80|     WH_C|Supplier_1|    Tablet|      58|2024-01-09|            1|                340|\n",
      "|  ORD_92|     WH_B|Supplier_1|    Laptop|      40|2024-01-09|            4|                380|\n",
      "| ORD_141|     WH_B|Supplier_1|    Laptop|      24|2024-01-11|            5|                404|\n",
      "| ORD_158|     WH_B|Supplier_1|    Laptop|      21|2024-01-11|            7|                425|\n",
      "| ORD_190|     WH_A|Supplier_1|Smartphone|      38|2024-01-11|            6|                463|\n",
      "|  ORD_42|     WH_B|Supplier_1|    Laptop|      59|2024-01-12|            5|                522|\n",
      "|  ORD_44|     WH_B|Supplier_1|    Laptop|      75|2024-01-12|            2|                597|\n",
      "| ORD_129|     WH_A|Supplier_1|        TV|      74|2024-01-12|            1|                671|\n",
      "| ORD_131|     WH_B|Supplier_1|Smartphone|      71|2024-01-12|            3|                742|\n",
      "| ORD_105|     WH_C|Supplier_1|        TV|      82|2024-01-13|            7|                824|\n",
      "+--------+---------+----------+----------+--------+----------+-------------+-------------------+\n",
      "only showing top 20 rows\n",
      "\n"
     ]
    }
   ],
   "source": [
    "# Calculated cumulative order quantity per supplier\n",
    "    window_spec2 = Window.partitionBy(\"supplier\").orderBy(\"order_date\").rowsBetween(Window.unboundedPreceding, Window.currentRow)\n",
    "df_cumulative = df.withColumn(\"cumulative_quantity\", sum(\"quantity\").over(window_spec2))\n",
    "df_cumulative.show()"
   ]
  },
  {
   "cell_type": "code",
   "execution_count": 12,
   "metadata": {},
   "outputs": [
    {
     "name": "stdout",
     "output_type": "stream",
     "text": [
      "+--------+---------+----------+----------+--------+----------+-------------+-----------------+-------------+\n",
      "|order_id|warehouse|  supplier|   product|quantity|order_date|delivery_time|previous_delivery|next_delivery|\n",
      "+--------+---------+----------+----------+--------+----------+-------------+-----------------+-------------+\n",
      "|  ORD_52|     WH_C|Supplier_1|Headphones|      57|2024-01-01|            1|             null|            4|\n",
      "| ORD_196|     WH_A|Supplier_1|        TV|      29|2024-01-01|            4|                1|            1|\n",
      "|   ORD_3|     WH_B|Supplier_1|Headphones|      29|2024-01-02|            1|                4|            7|\n",
      "|  ORD_38|     WH_B|Supplier_1|        TV|       1|2024-01-02|            7|                1|            2|\n",
      "|  ORD_58|     WH_B|Supplier_1|    Laptop|      39|2024-01-02|            2|                7|            6|\n",
      "| ORD_180|     WH_B|Supplier_1|        TV|      39|2024-01-02|            6|                2|            7|\n",
      "| ORD_192|     WH_B|Supplier_1|        TV|      12|2024-01-02|            7|                6|            5|\n",
      "|  ORD_29|     WH_B|Supplier_1|        TV|      28|2024-01-04|            5|                7|            7|\n",
      "| ORD_188|     WH_C|Supplier_1|    Tablet|       3|2024-01-05|            7|                5|            3|\n",
      "| ORD_133|     WH_C|Supplier_1|        TV|      45|2024-01-08|            3|                7|            1|\n",
      "|  ORD_80|     WH_C|Supplier_1|    Tablet|      58|2024-01-09|            1|                3|            4|\n",
      "|  ORD_92|     WH_B|Supplier_1|    Laptop|      40|2024-01-09|            4|                1|            5|\n",
      "| ORD_141|     WH_B|Supplier_1|    Laptop|      24|2024-01-11|            5|                4|            7|\n",
      "| ORD_158|     WH_B|Supplier_1|    Laptop|      21|2024-01-11|            7|                5|            6|\n",
      "| ORD_190|     WH_A|Supplier_1|Smartphone|      38|2024-01-11|            6|                7|            5|\n",
      "|  ORD_42|     WH_B|Supplier_1|    Laptop|      59|2024-01-12|            5|                6|            2|\n",
      "|  ORD_44|     WH_B|Supplier_1|    Laptop|      75|2024-01-12|            2|                5|            1|\n",
      "| ORD_129|     WH_A|Supplier_1|        TV|      74|2024-01-12|            1|                2|            3|\n",
      "| ORD_131|     WH_B|Supplier_1|Smartphone|      71|2024-01-12|            3|                1|            7|\n",
      "| ORD_105|     WH_C|Supplier_1|        TV|      82|2024-01-13|            7|                3|            7|\n",
      "+--------+---------+----------+----------+--------+----------+-------------+-----------------+-------------+\n",
      "only showing top 20 rows\n",
      "\n"
     ]
    }
   ],
   "source": [
    "# Compare current vs previous delivery times\n",
    "window_spec3 = Window.partitionBy(\"supplier\").orderBy(\"order_date\")\n",
    "\n",
    "df_lead_lag = df.withColumn(\"previous_delivery\", lag(\"delivery_time\", 1).over(window_spec3)).withColumn(\"next_delivery\", lead(\"delivery_time\", 1).over(window_spec3))\n",
    "df_lead_lag.show()\n"
   ]
  },
  {
   "cell_type": "code",
   "execution_count": 13,
   "metadata": {},
   "outputs": [
    {
     "name": "stdout",
     "output_type": "stream",
     "text": [
      "+--------+---------+----------+----------+--------+----------+-------------+------------------+\n",
      "|order_id|warehouse|  supplier|   product|quantity|order_date|delivery_time| avg_delivery_time|\n",
      "+--------+---------+----------+----------+--------+----------+-------------+------------------+\n",
      "|  ORD_52|     WH_C|Supplier_1|Headphones|      57|2024-01-01|            1|               1.0|\n",
      "| ORD_196|     WH_A|Supplier_1|        TV|      29|2024-01-01|            4|               2.5|\n",
      "|   ORD_3|     WH_B|Supplier_1|Headphones|      29|2024-01-02|            1|               2.0|\n",
      "|  ORD_38|     WH_B|Supplier_1|        TV|       1|2024-01-02|            7|               4.0|\n",
      "|  ORD_58|     WH_B|Supplier_1|    Laptop|      39|2024-01-02|            2|3.3333333333333335|\n",
      "| ORD_180|     WH_B|Supplier_1|        TV|      39|2024-01-02|            6|               5.0|\n",
      "| ORD_192|     WH_B|Supplier_1|        TV|      12|2024-01-02|            7|               5.0|\n",
      "|  ORD_29|     WH_B|Supplier_1|        TV|      28|2024-01-04|            5|               6.0|\n",
      "| ORD_188|     WH_C|Supplier_1|    Tablet|       3|2024-01-05|            7| 6.333333333333333|\n",
      "| ORD_133|     WH_C|Supplier_1|        TV|      45|2024-01-08|            3|               5.0|\n",
      "|  ORD_80|     WH_C|Supplier_1|    Tablet|      58|2024-01-09|            1|3.6666666666666665|\n",
      "|  ORD_92|     WH_B|Supplier_1|    Laptop|      40|2024-01-09|            4|2.6666666666666665|\n",
      "| ORD_141|     WH_B|Supplier_1|    Laptop|      24|2024-01-11|            5|3.3333333333333335|\n",
      "| ORD_158|     WH_B|Supplier_1|    Laptop|      21|2024-01-11|            7| 5.333333333333333|\n",
      "| ORD_190|     WH_A|Supplier_1|Smartphone|      38|2024-01-11|            6|               6.0|\n",
      "|  ORD_42|     WH_B|Supplier_1|    Laptop|      59|2024-01-12|            5|               6.0|\n",
      "|  ORD_44|     WH_B|Supplier_1|    Laptop|      75|2024-01-12|            2| 4.333333333333333|\n",
      "| ORD_129|     WH_A|Supplier_1|        TV|      74|2024-01-12|            1|2.6666666666666665|\n",
      "| ORD_131|     WH_B|Supplier_1|Smartphone|      71|2024-01-12|            3|               2.0|\n",
      "| ORD_105|     WH_C|Supplier_1|        TV|      82|2024-01-13|            7|3.6666666666666665|\n",
      "+--------+---------+----------+----------+--------+----------+-------------+------------------+\n",
      "only showing top 20 rows\n",
      "\n"
     ]
    }
   ],
   "source": [
    "# Calculate a 3 days moving average for delivery time\n",
    "window_spec4 = Window.partitionBy(\"supplier\").orderBy(\"order_date\").rowsBetween(-2, 0) # 3 rows at a time (current row + 2 previous row)\n",
    "df_moving_avg = df.withColumn(\"avg_delivery_time\",avg(\"delivery_time\").over(window_spec4))\n",
    "df_moving_avg.show()"
   ]
  },
  {
   "cell_type": "code",
   "execution_count": null,
   "metadata": {},
   "outputs": [],
   "source": []
  }
 ],
 "metadata": {
  "kernelspec": {
   "display_name": "PySpark 3 ",
   "language": "python",
   "name": "pyspark3_env"
  },
  "language_info": {
   "codemirror_mode": {
    "name": "ipython",
    "version": 3
   },
   "file_extension": ".py",
   "mimetype": "text/x-python",
   "name": "python",
   "nbconvert_exporter": "python",
   "pygments_lexer": "ipython3",
   "version": "3.9.0"
  }
 },
 "nbformat": 4,
 "nbformat_minor": 4
}
