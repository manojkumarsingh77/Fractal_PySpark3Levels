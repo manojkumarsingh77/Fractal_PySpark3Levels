{
 "cells": [
  {
   "cell_type": "code",
   "execution_count": null,
   "metadata": {},
   "outputs": [],
   "source": [
    "# /home/labuser/Documents/Level2_Day1_Data/walmart_inventory.json"
   ]
  },
  {
   "cell_type": "markdown",
   "metadata": {},
   "source": [
    " - Explode Arrays: Each store contains a list of products, which needs to be exploded.\n",
    " - Flatten Structs: Product details are stored in nested structures that need flattening.\n",
    " - Handle Maps: Different warehouse locations hold stock quantities in a MapType column.\n",
    " - Deal with Complex JSON: The input JSON is deeply nested and needs transformation.\n",
    " - Performance Considerations: Use optimized transformations, avoid unnecessary shuffling, and leverage broadcast joins where applicable."
   ]
  },
  {
   "cell_type": "code",
   "execution_count": 1,
   "metadata": {},
   "outputs": [],
   "source": [
    "# Importing Lib\n",
    "from pyspark.sql import SparkSession\n",
    "from pyspark.sql.functions import col, explode, struct"
   ]
  },
  {
   "cell_type": "code",
   "execution_count": 2,
   "metadata": {},
   "outputs": [],
   "source": [
    "# Initialize the Spark Session\n",
    "spark = SparkSession.builder.appName(\"WalmartInventory\").getOrCreate()"
   ]
  },
  {
   "cell_type": "code",
   "execution_count": 6,
   "metadata": {},
   "outputs": [],
   "source": [
    "# Loading JSON File\n",
    "# df = spark.read.json(\"/home/labuser/Documents/Level2_Day1_Data/walmart_inventory.json\")\n",
    "df = spark.read.option(\"multiline\", \"true\").json(\"/home/labuser/Documents/Level2_Day1_Data/walmart_inventory.json\")"
   ]
  },
  {
   "cell_type": "code",
   "execution_count": 7,
   "metadata": {},
   "outputs": [
    {
     "name": "stdout",
     "output_type": "stream",
     "text": [
      "root\n",
      " |-- inventory: struct (nullable = true)\n",
      " |    |-- product: struct (nullable = true)\n",
      " |    |    |-- details: struct (nullable = true)\n",
      " |    |    |    |-- category: string (nullable = true)\n",
      " |    |    |    |-- price: long (nullable = true)\n",
      " |    |    |-- id: long (nullable = true)\n",
      " |    |    |-- name: string (nullable = true)\n",
      " |    |-- stock: array (nullable = true)\n",
      " |    |    |-- element: struct (containsNull = true)\n",
      " |    |    |    |-- quantity: long (nullable = true)\n",
      " |    |    |    |-- warehouse: string (nullable = true)\n",
      " |    |-- supplier_info: struct (nullable = true)\n",
      " |    |    |-- contact: string (nullable = true)\n",
      " |    |    |-- name: string (nullable = true)\n",
      " |-- store_id: string (nullable = true)\n",
      "\n",
      "+-------------------------------------------------------------------------------------------+---------+\n",
      "|inventory                                                                                  |store_id |\n",
      "+-------------------------------------------------------------------------------------------+---------+\n",
      "|{{{Electronics, 500}, 102, Smartphone}, [{95, WH1}, {88, WH2}], {contact_5191, Supplier_5}}|Store_001|\n",
      "|{{{Groceries, 2}, 201, Apple}, [{59, WH1}, {96, WH2}], {contact_1560, Supplier_1}}         |Store_002|\n",
      "|{{{Electronics, 800}, 101, Laptop}, [{87, WH1}, {74, WH2}], {contact_1923, Supplier_2}}    |Store_002|\n",
      "|{{{Clothing, 40}, 301, Jeans}, [{55, WH1}, {91, WH2}], {contact_6123, Supplier_3}}         |Store_003|\n",
      "|{{{Clothing, 40}, 301, Jeans}, [{15, WH1}, {25, WH2}], {contact_3153, Supplier_5}}         |Store_003|\n",
      "|{{{Groceries, 3}, 202, Milk}, [{51, WH1}, {83, WH2}], {contact_2501, Supplier_3}}          |Store_001|\n",
      "|{{{Electronics, 800}, 101, Laptop}, [{94, WH1}, {49, WH2}], {contact_6836, Supplier_2}}    |Store_002|\n",
      "|{{{Electronics, 800}, 101, Laptop}, [{95, WH1}, {41, WH2}], {contact_1419, Supplier_2}}    |Store_003|\n",
      "|{{{Electronics, 800}, 101, Laptop}, [{24, WH1}, {37, WH2}], {contact_3463, Supplier_2}}    |Store_002|\n",
      "|{{{Clothing, 40}, 301, Jeans}, [{12, WH1}, {17, WH2}], {contact_4801, Supplier_1}}         |Store_003|\n",
      "+-------------------------------------------------------------------------------------------+---------+\n",
      "\n"
     ]
    }
   ],
   "source": [
    "# Print schema to inspect nested structure\n",
    "df.printSchema()\n",
    "df.show(truncate=False)"
   ]
  },
  {
   "cell_type": "code",
   "execution_count": 9,
   "metadata": {},
   "outputs": [
    {
     "name": "stdout",
     "output_type": "stream",
     "text": [
      "root\n",
      " |-- inventory: struct (nullable = true)\n",
      " |    |-- product: struct (nullable = true)\n",
      " |    |    |-- details: struct (nullable = true)\n",
      " |    |    |    |-- category: string (nullable = true)\n",
      " |    |    |    |-- price: long (nullable = true)\n",
      " |    |    |-- id: long (nullable = true)\n",
      " |    |    |-- name: string (nullable = true)\n",
      " |    |-- stock: array (nullable = true)\n",
      " |    |    |-- element: struct (containsNull = true)\n",
      " |    |    |    |-- quantity: long (nullable = true)\n",
      " |    |    |    |-- warehouse: string (nullable = true)\n",
      " |    |-- supplier_info: struct (nullable = true)\n",
      " |    |    |-- contact: string (nullable = true)\n",
      " |    |    |-- name: string (nullable = true)\n",
      " |-- store_id: string (nullable = true)\n",
      " |-- stock: struct (nullable = true)\n",
      " |    |-- quantity: long (nullable = true)\n",
      " |    |-- warehouse: string (nullable = true)\n",
      "\n",
      "+--------------------+---------+---------+\n",
      "|           inventory| store_id|    stock|\n",
      "+--------------------+---------+---------+\n",
      "|{{{Electronics, 5...|Store_001|{95, WH1}|\n",
      "|{{{Electronics, 5...|Store_001|{88, WH2}|\n",
      "|{{{Groceries, 2},...|Store_002|{59, WH1}|\n",
      "|{{{Groceries, 2},...|Store_002|{96, WH2}|\n",
      "|{{{Electronics, 8...|Store_002|{87, WH1}|\n",
      "|{{{Electronics, 8...|Store_002|{74, WH2}|\n",
      "|{{{Clothing, 40},...|Store_003|{55, WH1}|\n",
      "|{{{Clothing, 40},...|Store_003|{91, WH2}|\n",
      "|{{{Clothing, 40},...|Store_003|{15, WH1}|\n",
      "|{{{Clothing, 40},...|Store_003|{25, WH2}|\n",
      "|{{{Groceries, 3},...|Store_001|{51, WH1}|\n",
      "|{{{Groceries, 3},...|Store_001|{83, WH2}|\n",
      "|{{{Electronics, 8...|Store_002|{94, WH1}|\n",
      "|{{{Electronics, 8...|Store_002|{49, WH2}|\n",
      "|{{{Electronics, 8...|Store_003|{95, WH1}|\n",
      "|{{{Electronics, 8...|Store_003|{41, WH2}|\n",
      "|{{{Electronics, 8...|Store_002|{24, WH1}|\n",
      "|{{{Electronics, 8...|Store_002|{37, WH2}|\n",
      "|{{{Clothing, 40},...|Store_003|{12, WH1}|\n",
      "|{{{Clothing, 40},...|Store_003|{17, WH2}|\n",
      "+--------------------+---------+---------+\n",
      "\n"
     ]
    }
   ],
   "source": [
    "# Explode Arrays (Stock Information)\n",
    "\n",
    "df_exploded = df.withColumn(\"stock\", explode(col(\"inventory.stock\")))\n",
    "df_exploded.printSchema()\n",
    "df_exploded.show()"
   ]
  },
  {
   "cell_type": "markdown",
   "metadata": {},
   "source": [
    "Before:\n",
    "+-----------+----------------+\n",
    "|product_id |stock           |\n",
    "+-----------+----------------+\n",
    "|P001       |[10, 20, 30]    |\n",
    "|P002       |[15, 25]        |\n",
    "+-----------+----------------+\n",
    "\n",
    "\n",
    "After:\n",
    "+-----------+------+\n",
    "|product_id |stock |\n",
    "+-----------+------+\n",
    "|P001       |10    |\n",
    "|P001       |20    |\n",
    "|P001       |30    |\n",
    "|P002       |15    |\n",
    "|P002       |25    |\n",
    "+-----------+------+\n",
    "\n"
   ]
  },
  {
   "cell_type": "code",
   "execution_count": 10,
   "metadata": {},
   "outputs": [
    {
     "name": "stdout",
     "output_type": "stream",
     "text": [
      "+---------+----------+------------+-----------+-----+---------+--------------+-------------+----------------+\n",
      "|store_id |product_id|product_name|category   |price|warehouse|stock_quantity|supplier_name|supplier_contact|\n",
      "+---------+----------+------------+-----------+-----+---------+--------------+-------------+----------------+\n",
      "|Store_001|102       |Smartphone  |Electronics|500  |WH1      |95            |Supplier_5   |contact_5191    |\n",
      "|Store_001|102       |Smartphone  |Electronics|500  |WH2      |88            |Supplier_5   |contact_5191    |\n",
      "|Store_002|201       |Apple       |Groceries  |2    |WH1      |59            |Supplier_1   |contact_1560    |\n",
      "|Store_002|201       |Apple       |Groceries  |2    |WH2      |96            |Supplier_1   |contact_1560    |\n",
      "|Store_002|101       |Laptop      |Electronics|800  |WH1      |87            |Supplier_2   |contact_1923    |\n",
      "|Store_002|101       |Laptop      |Electronics|800  |WH2      |74            |Supplier_2   |contact_1923    |\n",
      "|Store_003|301       |Jeans       |Clothing   |40   |WH1      |55            |Supplier_3   |contact_6123    |\n",
      "|Store_003|301       |Jeans       |Clothing   |40   |WH2      |91            |Supplier_3   |contact_6123    |\n",
      "|Store_003|301       |Jeans       |Clothing   |40   |WH1      |15            |Supplier_5   |contact_3153    |\n",
      "|Store_003|301       |Jeans       |Clothing   |40   |WH2      |25            |Supplier_5   |contact_3153    |\n",
      "|Store_001|202       |Milk        |Groceries  |3    |WH1      |51            |Supplier_3   |contact_2501    |\n",
      "|Store_001|202       |Milk        |Groceries  |3    |WH2      |83            |Supplier_3   |contact_2501    |\n",
      "|Store_002|101       |Laptop      |Electronics|800  |WH1      |94            |Supplier_2   |contact_6836    |\n",
      "|Store_002|101       |Laptop      |Electronics|800  |WH2      |49            |Supplier_2   |contact_6836    |\n",
      "|Store_003|101       |Laptop      |Electronics|800  |WH1      |95            |Supplier_2   |contact_1419    |\n",
      "|Store_003|101       |Laptop      |Electronics|800  |WH2      |41            |Supplier_2   |contact_1419    |\n",
      "|Store_002|101       |Laptop      |Electronics|800  |WH1      |24            |Supplier_2   |contact_3463    |\n",
      "|Store_002|101       |Laptop      |Electronics|800  |WH2      |37            |Supplier_2   |contact_3463    |\n",
      "|Store_003|301       |Jeans       |Clothing   |40   |WH1      |12            |Supplier_1   |contact_4801    |\n",
      "|Store_003|301       |Jeans       |Clothing   |40   |WH2      |17            |Supplier_1   |contact_4801    |\n",
      "+---------+----------+------------+-----------+-----+---------+--------------+-------------+----------------+\n",
      "\n"
     ]
    }
   ],
   "source": [
    "# Flatten Nested Structure (Product & Supplier Info)\n",
    "\n",
    "df_flattened = df_exploded.select(\n",
    "    col(\"store_id\"),\n",
    "    col(\"inventory.product.id\").alias(\"product_id\"),\n",
    "    col(\"inventory.product.name\").alias(\"product_name\"),\n",
    "    col(\"inventory.product.details.category\").alias(\"category\"),\n",
    "    col(\"inventory.product.details.price\").alias(\"price\"),\n",
    "    col(\"stock.warehouse\").alias(\"warehouse\"),\n",
    "    col(\"stock.quantity\").alias(\"stock_quantity\"),\n",
    "    col(\"inventory.supplier_info.name\").alias(\"supplier_name\"),\n",
    "    col(\"inventory.supplier_info.contact\").alias(\"supplier_contact\")\n",
    ")\n",
    "\n",
    "df_flattened.show(truncate=False)"
   ]
  },
  {
   "cell_type": "code",
   "execution_count": 12,
   "metadata": {},
   "outputs": [
    {
     "data": {
      "text/plain": [
       "DataFrame[store_id: string, product_id: bigint, product_name: string, category: string, price: bigint, warehouse: string, stock_quantity: bigint, supplier_name: string, supplier_contact: string]"
      ]
     },
     "execution_count": 12,
     "metadata": {},
     "output_type": "execute_result"
    }
   ],
   "source": [
    "df_flattened.cache()"
   ]
  },
  {
   "cell_type": "code",
   "execution_count": 11,
   "metadata": {},
   "outputs": [
    {
     "name": "stdout",
     "output_type": "stream",
     "text": [
      "+---------+---------+--------+\n",
      "| store_id|Warehouse|quantity|\n",
      "+---------+---------+--------+\n",
      "|Store_001|      WH1|      95|\n",
      "|Store_001|      WH2|      88|\n",
      "|Store_002|      WH1|      59|\n",
      "|Store_002|      WH2|      96|\n",
      "|Store_002|      WH1|      87|\n",
      "|Store_002|      WH2|      74|\n",
      "|Store_003|      WH1|      55|\n",
      "|Store_003|      WH2|      91|\n",
      "|Store_003|      WH1|      15|\n",
      "|Store_003|      WH2|      25|\n",
      "|Store_001|      WH1|      51|\n",
      "|Store_001|      WH2|      83|\n",
      "|Store_002|      WH1|      94|\n",
      "|Store_002|      WH2|      49|\n",
      "|Store_003|      WH1|      95|\n",
      "|Store_003|      WH2|      41|\n",
      "|Store_002|      WH1|      24|\n",
      "|Store_002|      WH2|      37|\n",
      "|Store_003|      WH1|      12|\n",
      "|Store_003|      WH2|      17|\n",
      "+---------+---------+--------+\n",
      "\n"
     ]
    }
   ],
   "source": [
    "# Extracting fields correctly\n",
    "\n",
    "df_map = df_exploded.select(col(\"store_id\"), col(\"stock.warehouse\").alias(\"Warehouse\"), col(\"stock.quantity\").alias(\"quantity\"))\n",
    "df_map.show()"
   ]
  },
  {
   "cell_type": "code",
   "execution_count": null,
   "metadata": {},
   "outputs": [],
   "source": []
  }
 ],
 "metadata": {
  "kernelspec": {
   "display_name": "PySpark 3 ",
   "language": "python",
   "name": "pyspark3_env"
  },
  "language_info": {
   "codemirror_mode": {
    "name": "ipython",
    "version": 3
   },
   "file_extension": ".py",
   "mimetype": "text/x-python",
   "name": "python",
   "nbconvert_exporter": "python",
   "pygments_lexer": "ipython3",
   "version": "3.9.0"
  }
 },
 "nbformat": 4,
 "nbformat_minor": 4
}
