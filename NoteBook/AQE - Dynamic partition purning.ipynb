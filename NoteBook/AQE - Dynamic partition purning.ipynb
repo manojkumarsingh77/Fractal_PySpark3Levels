{
 "cells": [
  {
   "cell_type": "code",
   "execution_count": 1,
   "metadata": {},
   "outputs": [],
   "source": [
    "#/home/labuser/Documents/Level3/Day3/DataDemo/customers.parquet\n",
    "#/home/labuser/Documents/Level3/Day3/DataDemo/bank_loans.parquet\n",
    "#/home/labuser/Documents/Level3/Day3/DataDemo/branches.parquets\n",
    "#/home/labuser/Documents/Level3/Day3/DataDemo/transactions.parquet"
   ]
  },
  {
   "cell_type": "code",
   "execution_count": 2,
   "metadata": {},
   "outputs": [],
   "source": [
    "# Before AQE\n",
    "\n",
    "from pyspark.sql import SparkSession\n",
    "import time\n",
    "\n",
    "# Initialize the Spark Session\n",
    "\n",
    "spark = SparkSession.builder.appName(\"AQE_Example\").config(\"spark.sql.adaptive.enabled\", \"false\").getOrCreate()"
   ]
  },
  {
   "cell_type": "code",
   "execution_count": 3,
   "metadata": {},
   "outputs": [],
   "source": [
    "# Load the Parquet files\n",
    "\n",
    "loan_df = spark.read.parquet(\"/home/labuser/Documents/Level3/Day3/DataDemo/bank_loans.parquet\")\n",
    "branch_df = spark.read.parquet(\"/home/labuser/Documents/Level3/Day3/DataDemo/branches.parquets\")"
   ]
  },
  {
   "cell_type": "code",
   "execution_count": 4,
   "metadata": {},
   "outputs": [],
   "source": [
    "# Start Timer\n",
    "start_time = time.time()\n"
   ]
  },
  {
   "cell_type": "code",
   "execution_count": 5,
   "metadata": {},
   "outputs": [],
   "source": [
    "# Filtering on branch_id but without purning - reads unnecessary data \n",
    "\n",
    "result_df = loan_df.join(branch_df, \"branch_id\", \"inner\").filter(\"branch_name = 'New York'\")"
   ]
  },
  {
   "cell_type": "code",
   "execution_count": 6,
   "metadata": {},
   "outputs": [
    {
     "name": "stdout",
     "output_type": "stream",
     "text": [
      "+---------+--------+-----------+-----------+-------------+------+---------------+-----------+--------+-----+--------+\n",
      "|branch_id| loan_id|customer_id|loan_amount|interest_rate|tenure|approval_status|branch_name|    city|state|zip_code|\n",
      "+---------+--------+-----------+-----------+-------------+------+---------------+-----------+--------+-----+--------+\n",
      "| 2bde6bb2|08e84e24|      77377|   12547.47|         12.8|    12|        Pending|   New York|New York|   NY|   62264|\n",
      "| 2bde6bb2|50764cb3|      88695|    34477.8|         12.4|    12|       Rejected|   New York|New York|   NY|   62264|\n",
      "| 2bde6bb2|72315660|      57946|    4753.65|         9.75|    60|        Pending|   New York|New York|   NY|   62264|\n",
      "| 2bde6bb2|6c30b86f|      25340|   39568.18|          3.5|    12|       Rejected|   New York|New York|   NY|   62264|\n",
      "| 2bde6bb2|75bc8cca|      39480|    3060.82|         3.53|    24|        Pending|   New York|New York|   NY|   62264|\n",
      "| 2bde6bb2|101e8743|      34773|   35502.34|         6.29|    48|        Pending|   New York|New York|   NY|   62264|\n",
      "| 2bde6bb2|c897828e|      37790|   40758.25|          8.7|    48|       Approved|   New York|New York|   NY|   62264|\n",
      "| 2bde6bb2|f0c1bee0|      41645|   22911.42|         6.76|    60|       Rejected|   New York|New York|   NY|   62264|\n",
      "| 2bde6bb2|e6328fa7|      96975|    5900.87|         7.17|    24|       Rejected|   New York|New York|   NY|   62264|\n",
      "| 2bde6bb2|d300c068|      66004|   17008.97|         5.27|    60|        Pending|   New York|New York|   NY|   62264|\n",
      "| 2bde6bb2|51b515a4|      44099|   21449.97|        11.43|    48|       Approved|   New York|New York|   NY|   62264|\n",
      "| 2bde6bb2|ae5de83f|      45603|   43418.03|         7.02|    24|       Rejected|   New York|New York|   NY|   62264|\n",
      "| 2bde6bb2|6e98aae7|      79417|    3935.51|        11.61|    36|       Rejected|   New York|New York|   NY|   62264|\n",
      "| 2bde6bb2|c447c7b7|      66784|   44833.43|        14.52|    36|       Rejected|   New York|New York|   NY|   62264|\n",
      "| 2bde6bb2|ac95c5f7|      87357|   20800.11|        13.08|    48|        Pending|   New York|New York|   NY|   62264|\n",
      "| 2bde6bb2|ffc23b84|      75610|   37618.59|        12.13|    36|       Approved|   New York|New York|   NY|   62264|\n",
      "| 2bde6bb2|37f59136|      41896|   16170.44|        11.16|    60|        Pending|   New York|New York|   NY|   62264|\n",
      "| 2bde6bb2|0f867616|      61135|   44650.37|        11.68|    48|       Rejected|   New York|New York|   NY|   62264|\n",
      "| 2bde6bb2|8ed0fb41|      89598|   14443.47|         5.75|    48|       Rejected|   New York|New York|   NY|   62264|\n",
      "| 2bde6bb2|5b91b757|      56915|   16875.62|         9.03|    48|        Pending|   New York|New York|   NY|   62264|\n",
      "+---------+--------+-----------+-----------+-------------+------+---------------+-----------+--------+-----+--------+\n",
      "only showing top 20 rows\n",
      "\n"
     ]
    }
   ],
   "source": [
    "# Trigger Action to Measure Time\n",
    "result_df.show()"
   ]
  },
  {
   "cell_type": "code",
   "execution_count": 7,
   "metadata": {},
   "outputs": [],
   "source": [
    "# End Timerend\n",
    "end_time = time.time()"
   ]
  },
  {
   "cell_type": "code",
   "execution_count": 8,
   "metadata": {},
   "outputs": [
    {
     "name": "stdout",
     "output_type": "stream",
     "text": [
      "Execution Time : 2.54 seconds\n"
     ]
    }
   ],
   "source": [
    "# Calculate Execution time \n",
    "\n",
    "execution_time = end_time - start_time\n",
    "print(f\"Execution Time : {execution_time:.2f} seconds\")"
   ]
  },
  {
   "cell_type": "code",
   "execution_count": 9,
   "metadata": {},
   "outputs": [
    {
     "name": "stdout",
     "output_type": "stream",
     "text": [
      "+---------+--------+-----------+-----------+-------------+------+---------------+-----------+--------+-----+--------+\n",
      "|branch_id| loan_id|customer_id|loan_amount|interest_rate|tenure|approval_status|branch_name|    city|state|zip_code|\n",
      "+---------+--------+-----------+-----------+-------------+------+---------------+-----------+--------+-----+--------+\n",
      "| 2bde6bb2|08e84e24|      77377|   12547.47|         12.8|    12|        Pending|   New York|New York|   NY|   62264|\n",
      "| 2bde6bb2|50764cb3|      88695|    34477.8|         12.4|    12|       Rejected|   New York|New York|   NY|   62264|\n",
      "| 2bde6bb2|72315660|      57946|    4753.65|         9.75|    60|        Pending|   New York|New York|   NY|   62264|\n",
      "| 2bde6bb2|6c30b86f|      25340|   39568.18|          3.5|    12|       Rejected|   New York|New York|   NY|   62264|\n",
      "| 2bde6bb2|75bc8cca|      39480|    3060.82|         3.53|    24|        Pending|   New York|New York|   NY|   62264|\n",
      "| 2bde6bb2|101e8743|      34773|   35502.34|         6.29|    48|        Pending|   New York|New York|   NY|   62264|\n",
      "| 2bde6bb2|c897828e|      37790|   40758.25|          8.7|    48|       Approved|   New York|New York|   NY|   62264|\n",
      "| 2bde6bb2|f0c1bee0|      41645|   22911.42|         6.76|    60|       Rejected|   New York|New York|   NY|   62264|\n",
      "| 2bde6bb2|e6328fa7|      96975|    5900.87|         7.17|    24|       Rejected|   New York|New York|   NY|   62264|\n",
      "| 2bde6bb2|d300c068|      66004|   17008.97|         5.27|    60|        Pending|   New York|New York|   NY|   62264|\n",
      "| 2bde6bb2|51b515a4|      44099|   21449.97|        11.43|    48|       Approved|   New York|New York|   NY|   62264|\n",
      "| 2bde6bb2|ae5de83f|      45603|   43418.03|         7.02|    24|       Rejected|   New York|New York|   NY|   62264|\n",
      "| 2bde6bb2|6e98aae7|      79417|    3935.51|        11.61|    36|       Rejected|   New York|New York|   NY|   62264|\n",
      "| 2bde6bb2|c447c7b7|      66784|   44833.43|        14.52|    36|       Rejected|   New York|New York|   NY|   62264|\n",
      "| 2bde6bb2|ac95c5f7|      87357|   20800.11|        13.08|    48|        Pending|   New York|New York|   NY|   62264|\n",
      "| 2bde6bb2|ffc23b84|      75610|   37618.59|        12.13|    36|       Approved|   New York|New York|   NY|   62264|\n",
      "| 2bde6bb2|37f59136|      41896|   16170.44|        11.16|    60|        Pending|   New York|New York|   NY|   62264|\n",
      "| 2bde6bb2|0f867616|      61135|   44650.37|        11.68|    48|       Rejected|   New York|New York|   NY|   62264|\n",
      "| 2bde6bb2|8ed0fb41|      89598|   14443.47|         5.75|    48|       Rejected|   New York|New York|   NY|   62264|\n",
      "| 2bde6bb2|5b91b757|      56915|   16875.62|         9.03|    48|        Pending|   New York|New York|   NY|   62264|\n",
      "+---------+--------+-----------+-----------+-------------+------+---------------+-----------+--------+-----+--------+\n",
      "only showing top 20 rows\n",
      "\n",
      "Execution Time : 0.61 seconds\n"
     ]
    }
   ],
   "source": [
    "spark.conf.set(\"spark.sql.adaptive.enabled\", \"true\")\n",
    "\n",
    "# Start Timer\n",
    "start_time = time.time()\n",
    "#Optimized Query Executuion with AQE\n",
    "result_df = loan_df.join(branch_df, \"branch_id\", \"inner\").filter(\"branch_name = 'New York'\")\n",
    "\n",
    "#Trigger an Action \n",
    "\n",
    "result_df.show()\n",
    "\n",
    "# End Timerend\n",
    "end_time = time.time()\n",
    "\n",
    "# Calculate Execution time \n",
    "\n",
    "execution_time = end_time - start_time\n",
    "print(f\"Execution Time : {execution_time:.2f} seconds\")"
   ]
  },
  {
   "cell_type": "code",
   "execution_count": null,
   "metadata": {},
   "outputs": [],
   "source": []
  }
 ],
 "metadata": {
  "kernelspec": {
   "display_name": "PySpark 3 ",
   "language": "python",
   "name": "pyspark3_env"
  },
  "language_info": {
   "codemirror_mode": {
    "name": "ipython",
    "version": 3
   },
   "file_extension": ".py",
   "mimetype": "text/x-python",
   "name": "python",
   "nbconvert_exporter": "python",
   "pygments_lexer": "ipython3",
   "version": "3.9.0"
  }
 },
 "nbformat": 4,
 "nbformat_minor": 4
}
