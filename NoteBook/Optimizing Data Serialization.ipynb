{
 "cells": [
  {
   "cell_type": "markdown",
   "metadata": {},
   "source": [
    "We will:\n",
    "\n",
    "✅ Store loan data in multiple formats (CSV, Parquet, ORC)\n",
    "\n",
    "✅ Compare storage size & query performance"
   ]
  },
  {
   "cell_type": "code",
   "execution_count": 1,
   "metadata": {},
   "outputs": [],
   "source": [
    "#/home/labuser/Documents/Level2_Day2/"
   ]
  },
  {
   "cell_type": "code",
   "execution_count": 3,
   "metadata": {},
   "outputs": [],
   "source": [
    "from pyspark.sql import SparkSession\n",
    "\n",
    "spark = SparkSession.builder.appName(\"FileFormats to Store\").getOrCreate()\n",
    "\n"
   ]
  },
  {
   "cell_type": "code",
   "execution_count": 4,
   "metadata": {},
   "outputs": [
    {
     "name": "stdout",
     "output_type": "stream",
     "text": [
      "+-------+-----------+-----------+-------------+---------+-----------+\n",
      "|loan_id|customer_id|loan_amount|interest_rate|loan_term|loan_status|\n",
      "+-------+-----------+-----------+-------------+---------+-----------+\n",
      "| LOAN_1|   CUST_623|   356880.6|         2.68|       12|   Rejected|\n",
      "| LOAN_2|  CUST_3299|  408851.88|         7.34|       12|    Pending|\n",
      "| LOAN_3|  CUST_2356|  454599.98|         9.19|       36|   Approved|\n",
      "| LOAN_4|  CUST_3598|  228835.23|         8.57|       36|   Rejected|\n",
      "| LOAN_5|   CUST_305|   73602.87|         5.63|       36|   Rejected|\n",
      "| LOAN_6|  CUST_9492|   89225.37|         3.33|       48|    Pending|\n",
      "| LOAN_7|  CUST_7978|   46994.41|         9.47|       12|   Approved|\n",
      "| LOAN_8|  CUST_9382|  197149.52|         4.97|       12|   Approved|\n",
      "| LOAN_9|  CUST_4788|  102803.98|         2.82|       36|    Pending|\n",
      "|LOAN_10|  CUST_6463|  162353.48|         3.73|       60|    Pending|\n",
      "|LOAN_11|  CUST_5059|  225898.53|         2.67|       24|   Approved|\n",
      "|LOAN_12|  CUST_1783|  267359.05|        10.08|       60|   Rejected|\n",
      "|LOAN_13|  CUST_4753|   10086.77|         3.43|       12|   Approved|\n",
      "|LOAN_14|  CUST_8810|   90571.74|          9.6|       36|    Pending|\n",
      "|LOAN_15|  CUST_7143|  184285.11|         4.06|       48|    Pending|\n",
      "|LOAN_16|  CUST_9330|  393331.45|         5.67|       60|    Pending|\n",
      "|LOAN_17|  CUST_5238|  316089.28|          5.1|       36|   Rejected|\n",
      "|LOAN_18|  CUST_3032|  326021.41|         2.76|       12|   Rejected|\n",
      "|LOAN_19|  CUST_8544|   396553.0|         7.94|       48|   Rejected|\n",
      "|LOAN_20|  CUST_1461|  114976.85|          8.2|       12|    Pending|\n",
      "+-------+-----------+-----------+-------------+---------+-----------+\n",
      "only showing top 20 rows\n",
      "\n"
     ]
    }
   ],
   "source": [
    "df_loan = spark.read.csv(\"/home/labuser/Documents/Level2_Day2/loans.csv\", header=True, inferSchema=True)\n",
    "df_loan.show()"
   ]
  },
  {
   "cell_type": "code",
   "execution_count": 5,
   "metadata": {},
   "outputs": [],
   "source": [
    "# Convert to Optimized Format\n",
    "\n",
    "# 1. Convert to Parquet\n",
    "\n",
    "df_loan.write.parquet(\"/home/labuser/Documents/Level2_Day2/loans_parquet\")"
   ]
  },
  {
   "cell_type": "code",
   "execution_count": null,
   "metadata": {},
   "outputs": [],
   "source": [
    "# 2. Convert to AVRO\n",
    "df_loan.write.format(\"avro\").save(\"/home/labuser/Documents/Level2_Day2/loans_avro\")"
   ]
  },
  {
   "cell_type": "code",
   "execution_count": 6,
   "metadata": {},
   "outputs": [],
   "source": [
    "# 3. Convert to ORC\n",
    "\n",
    "df_loan.write.orc(\"/home/labuser/Documents/Level2_Day2/loans_orc\")"
   ]
  },
  {
   "cell_type": "code",
   "execution_count": 7,
   "metadata": {},
   "outputs": [
    {
     "name": "stdout",
     "output_type": "stream",
     "text": [
      "872K\t/home/labuser/Documents/Level2_Day2/loans_orc\r\n",
      "780K\t/home/labuser/Documents/Level2_Day2/loans_parquet\r\n"
     ]
    }
   ],
   "source": [
    "# Compare Performance \n",
    "# Compare Storage Size:\n",
    "\n",
    "!du -sh /home/labuser/Documents/Level2_Day2/loans_*"
   ]
  },
  {
   "cell_type": "code",
   "execution_count": 8,
   "metadata": {},
   "outputs": [
    {
     "name": "stdout",
     "output_type": "stream",
     "text": [
      "+-------+-----------+-----------+-------------+---------+-----------+\n",
      "|loan_id|customer_id|loan_amount|interest_rate|loan_term|loan_status|\n",
      "+-------+-----------+-----------+-------------+---------+-----------+\n",
      "| LOAN_1|   CUST_623|   356880.6|         2.68|       12|   Rejected|\n",
      "| LOAN_2|  CUST_3299|  408851.88|         7.34|       12|    Pending|\n",
      "| LOAN_3|  CUST_2356|  454599.98|         9.19|       36|   Approved|\n",
      "| LOAN_4|  CUST_3598|  228835.23|         8.57|       36|   Rejected|\n",
      "| LOAN_8|  CUST_9382|  197149.52|         4.97|       12|   Approved|\n",
      "| LOAN_9|  CUST_4788|  102803.98|         2.82|       36|    Pending|\n",
      "|LOAN_10|  CUST_6463|  162353.48|         3.73|       60|    Pending|\n",
      "|LOAN_11|  CUST_5059|  225898.53|         2.67|       24|   Approved|\n",
      "|LOAN_12|  CUST_1783|  267359.05|        10.08|       60|   Rejected|\n",
      "|LOAN_15|  CUST_7143|  184285.11|         4.06|       48|    Pending|\n",
      "|LOAN_16|  CUST_9330|  393331.45|         5.67|       60|    Pending|\n",
      "|LOAN_17|  CUST_5238|  316089.28|          5.1|       36|   Rejected|\n",
      "|LOAN_18|  CUST_3032|  326021.41|         2.76|       12|   Rejected|\n",
      "|LOAN_19|  CUST_8544|   396553.0|         7.94|       48|   Rejected|\n",
      "|LOAN_20|  CUST_1461|  114976.85|          8.2|       12|    Pending|\n",
      "|LOAN_21|  CUST_7002|   389720.0|         8.97|       60|   Rejected|\n",
      "|LOAN_22|  CUST_8100|  430184.57|        10.03|       60|    Pending|\n",
      "|LOAN_24|  CUST_4331|  257448.17|         5.14|       48|   Approved|\n",
      "|LOAN_25|  CUST_6826|   300165.5|        10.33|       12|   Rejected|\n",
      "|LOAN_26|  CUST_1006|  217767.58|         3.61|       60|   Rejected|\n",
      "+-------+-----------+-----------+-------------+---------+-----------+\n",
      "only showing top 20 rows\n",
      "\n",
      "+-------+-----------+-----------+-------------+---------+-----------+\n",
      "|loan_id|customer_id|loan_amount|interest_rate|loan_term|loan_status|\n",
      "+-------+-----------+-----------+-------------+---------+-----------+\n",
      "| LOAN_1|   CUST_623|   356880.6|         2.68|       12|   Rejected|\n",
      "| LOAN_2|  CUST_3299|  408851.88|         7.34|       12|    Pending|\n",
      "| LOAN_3|  CUST_2356|  454599.98|         9.19|       36|   Approved|\n",
      "| LOAN_4|  CUST_3598|  228835.23|         8.57|       36|   Rejected|\n",
      "| LOAN_8|  CUST_9382|  197149.52|         4.97|       12|   Approved|\n",
      "| LOAN_9|  CUST_4788|  102803.98|         2.82|       36|    Pending|\n",
      "|LOAN_10|  CUST_6463|  162353.48|         3.73|       60|    Pending|\n",
      "|LOAN_11|  CUST_5059|  225898.53|         2.67|       24|   Approved|\n",
      "|LOAN_12|  CUST_1783|  267359.05|        10.08|       60|   Rejected|\n",
      "|LOAN_15|  CUST_7143|  184285.11|         4.06|       48|    Pending|\n",
      "|LOAN_16|  CUST_9330|  393331.45|         5.67|       60|    Pending|\n",
      "|LOAN_17|  CUST_5238|  316089.28|          5.1|       36|   Rejected|\n",
      "|LOAN_18|  CUST_3032|  326021.41|         2.76|       12|   Rejected|\n",
      "|LOAN_19|  CUST_8544|   396553.0|         7.94|       48|   Rejected|\n",
      "|LOAN_20|  CUST_1461|  114976.85|          8.2|       12|    Pending|\n",
      "|LOAN_21|  CUST_7002|   389720.0|         8.97|       60|   Rejected|\n",
      "|LOAN_22|  CUST_8100|  430184.57|        10.03|       60|    Pending|\n",
      "|LOAN_24|  CUST_4331|  257448.17|         5.14|       48|   Approved|\n",
      "|LOAN_25|  CUST_6826|   300165.5|        10.33|       12|   Rejected|\n",
      "|LOAN_26|  CUST_1006|  217767.58|         3.61|       60|   Rejected|\n",
      "+-------+-----------+-----------+-------------+---------+-----------+\n",
      "only showing top 20 rows\n",
      "\n"
     ]
    }
   ],
   "source": [
    "df_parquet_read = spark.read.parquet(\"/home/labuser/Documents/Level2_Day2/loans_parquet\")\n",
    "df_orc_read = spark.read.orc(\"/home/labuser/Documents/Level2_Day2/loans_orc\")\n",
    "\n",
    "# Compare the Query Performance\n",
    "df_parquet_read.filter(\"loan_amount > 100000\").show()\n",
    "df_orc_read.filter(\"loan_amount > 100000\").show()"
   ]
  },
  {
   "cell_type": "code",
   "execution_count": null,
   "metadata": {},
   "outputs": [],
   "source": []
  }
 ],
 "metadata": {
  "kernelspec": {
   "display_name": "PySpark 3 ",
   "language": "python",
   "name": "pyspark3_env"
  },
  "language_info": {
   "codemirror_mode": {
    "name": "ipython",
    "version": 3
   },
   "file_extension": ".py",
   "mimetype": "text/x-python",
   "name": "python",
   "nbconvert_exporter": "python",
   "pygments_lexer": "ipython3",
   "version": "3.9.0"
  }
 },
 "nbformat": 4,
 "nbformat_minor": 4
}
